{
 "cells": [
  {
   "cell_type": "code",
   "execution_count": 2,
   "metadata": {},
   "outputs": [],
   "source": [
    "# Import necessary libraries\n",
    "import pandas as pd\n",
    "import matplotlib.pyplot as plt\n",
    "import backtrader as bt"
   ]
  },
  {
   "cell_type": "code",
   "execution_count": 3,
   "metadata": {},
   "outputs": [
    {
     "data": {
      "text/html": [
       "<div>\n",
       "<style scoped>\n",
       "    .dataframe tbody tr th:only-of-type {\n",
       "        vertical-align: middle;\n",
       "    }\n",
       "\n",
       "    .dataframe tbody tr th {\n",
       "        vertical-align: top;\n",
       "    }\n",
       "\n",
       "    .dataframe thead th {\n",
       "        text-align: right;\n",
       "    }\n",
       "</style>\n",
       "<table border=\"1\" class=\"dataframe\">\n",
       "  <thead>\n",
       "    <tr style=\"text-align: right;\">\n",
       "      <th></th>\n",
       "      <th>Open</th>\n",
       "      <th>High</th>\n",
       "      <th>Low</th>\n",
       "      <th>Close</th>\n",
       "      <th>Adj Close</th>\n",
       "      <th>Volume</th>\n",
       "    </tr>\n",
       "    <tr>\n",
       "      <th>Date</th>\n",
       "      <th></th>\n",
       "      <th></th>\n",
       "      <th></th>\n",
       "      <th></th>\n",
       "      <th></th>\n",
       "      <th></th>\n",
       "    </tr>\n",
       "  </thead>\n",
       "  <tbody>\n",
       "    <tr>\n",
       "      <th>2019-06-03</th>\n",
       "      <td>150.699997</td>\n",
       "      <td>150.699997</td>\n",
       "      <td>143.389999</td>\n",
       "      <td>145.100006</td>\n",
       "      <td>144.910721</td>\n",
       "      <td>8835200</td>\n",
       "    </tr>\n",
       "    <tr>\n",
       "      <th>2019-06-04</th>\n",
       "      <td>146.050003</td>\n",
       "      <td>150.919998</td>\n",
       "      <td>142.509995</td>\n",
       "      <td>150.809998</td>\n",
       "      <td>150.613251</td>\n",
       "      <td>12375100</td>\n",
       "    </tr>\n",
       "    <tr>\n",
       "      <th>2019-06-05</th>\n",
       "      <td>157.149994</td>\n",
       "      <td>158.500000</td>\n",
       "      <td>154.550003</td>\n",
       "      <td>158.440002</td>\n",
       "      <td>158.233307</td>\n",
       "      <td>12072400</td>\n",
       "    </tr>\n",
       "    <tr>\n",
       "      <th>2019-06-06</th>\n",
       "      <td>158.500000</td>\n",
       "      <td>160.000000</td>\n",
       "      <td>157.330002</td>\n",
       "      <td>159.309998</td>\n",
       "      <td>159.102173</td>\n",
       "      <td>5601200</td>\n",
       "    </tr>\n",
       "    <tr>\n",
       "      <th>2019-06-07</th>\n",
       "      <td>159.839996</td>\n",
       "      <td>162.990005</td>\n",
       "      <td>159.500000</td>\n",
       "      <td>161.270004</td>\n",
       "      <td>161.059616</td>\n",
       "      <td>7175300</td>\n",
       "    </tr>\n",
       "  </tbody>\n",
       "</table>\n",
       "</div>"
      ],
      "text/plain": [
       "                  Open        High         Low       Close   Adj Close  \\\n",
       "Date                                                                     \n",
       "2019-06-03  150.699997  150.699997  143.389999  145.100006  144.910721   \n",
       "2019-06-04  146.050003  150.919998  142.509995  150.809998  150.613251   \n",
       "2019-06-05  157.149994  158.500000  154.550003  158.440002  158.233307   \n",
       "2019-06-06  158.500000  160.000000  157.330002  159.309998  159.102173   \n",
       "2019-06-07  159.839996  162.990005  159.500000  161.270004  161.059616   \n",
       "\n",
       "              Volume  \n",
       "Date                  \n",
       "2019-06-03   8835200  \n",
       "2019-06-04  12375100  \n",
       "2019-06-05  12072400  \n",
       "2019-06-06   5601200  \n",
       "2019-06-07   7175300  "
      ]
     },
     "execution_count": 3,
     "metadata": {},
     "output_type": "execute_result"
    }
   ],
   "source": [
    "# Load the data\n",
    "data = pd.read_csv(\"../data/CRM.csv\", index_col='Date', parse_dates=True)\n",
    "data.head()"
   ]
  },
  {
   "cell_type": "code",
   "execution_count": 7,
   "metadata": {},
   "outputs": [],
   "source": [
    "class SmaCross(bt.Strategy):\n",
    "    def __init__(self):\n",
    "        sma1 = bt.indicators.SimpleMovingAverage(self.data.close, period=10)\n",
    "        sma2 = bt.indicators.SimpleMovingAverage(self.data.close, period=30)\n",
    "        self.crossover = bt.indicators.CrossOver(sma1, sma2)\n",
    "\n",
    "    def next(self):\n",
    "        if self.crossover > 0:  # A buy signal\n",
    "            self.buy()\n",
    "        elif self.crossover < 0:  # A sell signal\n",
    "            self.sell()\n"
   ]
  },
  {
   "cell_type": "code",
   "execution_count": 8,
   "metadata": {},
   "outputs": [
    {
     "name": "stdout",
     "output_type": "stream",
     "text": [
      "Starting Portfolio Value: 10000.00\n",
      "Final Portfolio Value: 9959.60\n"
     ]
    }
   ],
   "source": [
    "# Initialize the backtester\n",
    "cerebro = bt.Cerebro()\n",
    "\n",
    "# Convert the DataFrame to Backtrader's data feed format\n",
    "data_feed = bt.feeds.PandasData(dataname=data)\n",
    "\n",
    "# Add the data feed to the backtester\n",
    "cerebro.adddata(data_feed)\n",
    "\n",
    "# Add the trading strategy to the backtester\n",
    "cerebro.addstrategy(SmaCross)\n",
    "\n",
    "# Set the initial cash\n",
    "cerebro.broker.setcash(10000.0)\n",
    "\n",
    "# Set the commission (0.1% per trade)\n",
    "cerebro.broker.setcommission(commission=0.001)\n",
    "\n",
    "# Run the backtest\n",
    "print('Starting Portfolio Value: %.2f' % cerebro.broker.getvalue())\n",
    "cerebro.run()\n",
    "print('Final Portfolio Value: %.2f' % cerebro.broker.getvalue())\n",
    "\n",
    "# Ensure the plot displays correctly\n",
    "plt.rcParams['figure.figsize'] = [12, 8]\n",
    "plt.rcParams['figure.dpi'] = 100\n",
    "\n",
    "# Plot the results and display the figure\n",
    "fig = cerebro.plot(iplot=False, volume=False)[0][0]\n",
    "fig.show()\n"
   ]
  },
  {
   "cell_type": "code",
   "execution_count": null,
   "metadata": {},
   "outputs": [],
   "source": []
  }
 ],
 "metadata": {
  "kernelspec": {
   "display_name": "Python 3 (ipykernel)",
   "language": "python",
   "name": "python3"
  },
  "language_info": {
   "codemirror_mode": {
    "name": "ipython",
    "version": 3
   },
   "file_extension": ".py",
   "mimetype": "text/x-python",
   "name": "python",
   "nbconvert_exporter": "python",
   "pygments_lexer": "ipython3",
   "version": "3.10.2"
  }
 },
 "nbformat": 4,
 "nbformat_minor": 2
}
